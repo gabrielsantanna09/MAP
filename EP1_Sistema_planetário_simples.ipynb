{
  "nbformat": 4,
  "nbformat_minor": 0,
  "metadata": {
    "colab": {
      "provenance": [],
      "authorship_tag": "ABX9TyMf60s2XZpbmOK7mtRLyPOt",
      "include_colab_link": true
    },
    "kernelspec": {
      "name": "python3",
      "display_name": "Python 3"
    },
    "language_info": {
      "name": "python"
    }
  },
  "cells": [
    {
      "cell_type": "markdown",
      "metadata": {
        "id": "view-in-github",
        "colab_type": "text"
      },
      "source": [
        "<a href=\"https://colab.research.google.com/github/gabrielsantanna09/MAP/blob/main/EP1_Sistema_planet%C3%A1rio_simples.ipynb\" target=\"_parent\"><img src=\"https://colab.research.google.com/assets/colab-badge.svg\" alt=\"Open In Colab\"/></a>"
      ]
    },
    {
      "cell_type": "markdown",
      "source": [
        "EP 1 - Sistema Planetário simples: Sol é ms, fixo na origem. Dois planetas 'a' e 'b'. O objetivo é investigar a estabilidade do sistema.\n",
        "**Ra** = (xa,ya,za) . **Rb** = (xb,yb,zb)\n",
        "**Va** = **Ra**' e **Vb**=**Rb**'"
      ],
      "metadata": {
        "id": "YkVLKwMGLr-P"
      }
    },
    {
      "cell_type": "code",
      "execution_count": 1,
      "metadata": {
        "colab": {
          "base_uri": "https://localhost:8080/"
        },
        "id": "6BQJwdodLAGp",
        "outputId": "d07780c3-cc16-4635-a907-a90782e4043a"
      },
      "outputs": [
        {
          "output_type": "execute_result",
          "data": {
            "text/plain": [
              "[0, 1, 2, 3, 4, 5]"
            ]
          },
          "metadata": {},
          "execution_count": 1
        }
      ],
      "source": [
        "teste = [0,1,2,3,4,5]\n",
        "teste"
      ]
    },
    {
      "cell_type": "code",
      "source": [
        "teste\n",
        "import scipy"
      ],
      "metadata": {
        "id": "767lTYlqLlNm"
      },
      "execution_count": 3,
      "outputs": []
    },
    {
      "cell_type": "code",
      "source": [],
      "metadata": {
        "id": "D_USYqWQN9GW"
      },
      "execution_count": null,
      "outputs": []
    }
  ]
}