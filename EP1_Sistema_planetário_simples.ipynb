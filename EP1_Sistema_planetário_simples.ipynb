{
  "nbformat": 4,
  "nbformat_minor": 0,
  "metadata": {
    "colab": {
      "provenance": [],
      "authorship_tag": "ABX9TyMbPvaWyApdOTygKgt5x5aj",
      "include_colab_link": true
    },
    "kernelspec": {
      "name": "python3",
      "display_name": "Python 3"
    },
    "language_info": {
      "name": "python"
    }
  },
  "cells": [
    {
      "cell_type": "markdown",
      "metadata": {
        "id": "view-in-github",
        "colab_type": "text"
      },
      "source": [
        "<a href=\"https://colab.research.google.com/github/gabrielsantanna09/MAP/blob/main/EP1_Sistema_planet%C3%A1rio_simples.ipynb\" target=\"_parent\"><img src=\"https://colab.research.google.com/assets/colab-badge.svg\" alt=\"Open In Colab\"/></a>"
      ]
    },
    {
      "cell_type": "markdown",
      "source": [
        "## EP 1 - Sistema Planetário simples: Sol é ms, fixo na origem. Dois planetas 'a' e 'b'. O objetivo é investigar a estabilidade do sistema.\n",
        "**Ra** = (xa,ya,za) . **Rb** = (xb,yb,zb)\n",
        "**Va** = **Ra**' e **Vb**=**Rb**'\n",
        "\n",
        "---\n",
        "\n"
      ],
      "metadata": {
        "id": "YkVLKwMGLr-P"
      }
    },
    {
      "cell_type": "code",
      "source": [
        "from scipy import constants\n",
        "from scipy import integrate\n",
        "#from vpython import *\n",
        "#O vpython serve para importar objetos 3D mas precisa de uma extensão no chrome para funcionar\n",
        "#me preocupo com isso depois\n",
        "#quero usar scipy integrate.solve.ivp"
      ],
      "metadata": {
        "id": "Nx4rJpwJkQQT"
      },
      "execution_count": 17,
      "outputs": []
    },
    {
      "cell_type": "markdown",
      "source": [
        "Parâmetros indicados pelo professor"
      ],
      "metadata": {
        "id": "VwRpu4mAkK-c"
      }
    },
    {
      "cell_type": "code",
      "execution_count": 16,
      "metadata": {
        "id": "6BQJwdodLAGp"
      },
      "outputs": [],
      "source": [
        "#posições iniciais\n",
        "xa0 = 0.0\n",
        "ya0 = 0.0\n",
        "za0 = 0.0\n",
        "xb0 = 0.0\n",
        "yb0 = 0.0\n",
        "zb0 = 0.0\n",
        "\n",
        "#velocidades iniciais\n",
        "vxa0 = 0.0\n",
        "vya0 = 0.0\n",
        "vza0 = 0.0\n",
        "vxb0 = 0.0\n",
        "vyb0 = 0.0\n",
        "vzb0 = 0.0\n",
        "\n",
        "\n",
        "#CONSTANTES\n",
        "\n",
        "ms = 0.0\n",
        "ma = 0.0\n",
        "mb = 0.0\n",
        "dt = 0.001\n",
        "#a ideia é fazer a massa das partículas como multíplo das massas solares e da terra\n",
        "massa_sol = 1.98892 * 10**30\n",
        "massa_terra = 5.972 * 10**24\n",
        "G = constants.G"
      ]
    },
    {
      "cell_type": "markdown",
      "source": [
        "Aqui vou fazer as definições para calculo dos módulos"
      ],
      "metadata": {
        "id": "dMCAZtg_48BM"
      }
    },
    {
      "cell_type": "code",
      "source": [
        "def ra(xa0,ya0,za0):\n",
        "  ra = ((xa0**2)+(ya0**2)+(za0**2))**(1/2)\n",
        "  return ra\n",
        "\n",
        "def rb(xb0,yb0,zb0):\n",
        "  rb = ((xb0**2)+(yb0**2)+(zb0**2))**(1/2)\n",
        "  return rb\n",
        "\n",
        "def ra_b(xa0,ya0,za0,xb0,yb0,zb0):\n",
        "  ra_b = (((xb0-xa0)**2)+((yb0-ya0)**2)+((zb0-za0)**2))**(1/2)\n",
        "  return ra_b\n",
        "\n"
      ],
      "metadata": {
        "id": "767lTYlqLlNm"
      },
      "execution_count": 10,
      "outputs": []
    },
    {
      "cell_type": "markdown",
      "source": [
        "Aqui eu quero resolver esse sistema de equações e depois vou tentar fazer alguns plots que talvez eu consiga ver um desenho de alguma trajetória\n",
        "Links úteis para essa parte:\n",
        "https://www.youtube.com/watch?v=INBu1Pyj0Is\n",
        "https://docs.scipy.org/doc/scipy/reference/generated/scipy.integrate.solve_ivp.html#scipy.integrate.solve_ivp"
      ],
      "metadata": {
        "id": "uwLKxdcuRjvJ"
      }
    },
    {
      "cell_type": "code",
      "source": [
        "def f(t,r):\n",
        "  xa0,ya0,za0,xb0,yb0,zb0,vxa0,vya0,vzb0,vxa0,vyb0,vzb0 = r #aqui eu coloco os valores das condições iniciais\n",
        "  dvxa = -((G*ms*xa0)/(ra(xa0,ya0,za0)**3)) + ((G*mb*(xa0-xb0)/(ra_b(xa0,ya0,za0,xb0,yb0,zb0)**3)))\n",
        "  dvya =\n",
        "  dvza\n",
        "  dvxb\n",
        "  dvyb\n",
        "  dvzb\n",
        "\n"
      ],
      "metadata": {
        "id": "D_USYqWQN9GW"
      },
      "execution_count": null,
      "outputs": []
    },
    {
      "cell_type": "code",
      "source": [
        "sol = integrate.solve.ivp(f,(0,10),(xa0,ya0,za0,xb0,yb0,zb0,vxa0,vya0,vzb0,vxa0,vyb0,vzb0)) #terceiro argumento são as condições iniciais, o segunto é o intervalo de integração"
      ],
      "metadata": {
        "id": "dlQxmGPjRc0t"
      },
      "execution_count": null,
      "outputs": []
    }
  ]
}